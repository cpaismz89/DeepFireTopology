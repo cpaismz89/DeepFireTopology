{
 "cells": [
  {
   "cell_type": "markdown",
   "metadata": {},
   "source": [
    "## Importations"
   ]
  },
  {
   "cell_type": "code",
   "execution_count": 1,
   "metadata": {
    "ExecuteTime": {
     "end_time": "2021-05-11T19:27:28.524173Z",
     "start_time": "2021-05-11T19:27:26.732760Z"
    }
   },
   "outputs": [],
   "source": [
    "# Importations: Utils\n",
    "import sys\n",
    "sys.path.append('utils')\n",
    "\n",
    "from configtf2 import *\n",
    "import CPutils_tf2\n",
    "import feature_extraction_tf2"
   ]
  },
  {
   "cell_type": "markdown",
   "metadata": {},
   "source": [
    "# Net"
   ]
  },
  {
   "cell_type": "code",
   "execution_count": 2,
   "metadata": {
    "ExecuteTime": {
     "end_time": "2021-05-11T19:28:04.186792Z",
     "start_time": "2021-05-11T19:28:02.032234Z"
    },
    "scrolled": true
   },
   "outputs": [
    {
     "name": "stdout",
     "output_type": "stream",
     "text": [
      "Model: \"sequential\"\n",
      "_________________________________________________________________\n",
      "Layer (type)                 Output Shape              Param #   \n",
      "=================================================================\n",
      "separable_conv2d (SeparableC (None, 32, 32, 32)        155       \n",
      "_________________________________________________________________\n",
      "activation (Activation)      (None, 32, 32, 32)        0         \n",
      "_________________________________________________________________\n",
      "batch_normalization (BatchNo (None, 32, 32, 32)        128       \n",
      "_________________________________________________________________\n",
      "max_pooling2d (MaxPooling2D) (None, 16, 16, 32)        0         \n",
      "_________________________________________________________________\n",
      "dropout (Dropout)            (None, 16, 16, 32)        0         \n",
      "_________________________________________________________________\n",
      "separable_conv2d_1 (Separabl (None, 16, 16, 64)        2400      \n",
      "_________________________________________________________________\n",
      "activation_1 (Activation)    (None, 16, 16, 64)        0         \n",
      "_________________________________________________________________\n",
      "batch_normalization_1 (Batch (None, 16, 16, 64)        256       \n",
      "_________________________________________________________________\n",
      "separable_conv2d_2 (Separabl (None, 16, 16, 64)        4736      \n",
      "_________________________________________________________________\n",
      "activation_2 (Activation)    (None, 16, 16, 64)        0         \n",
      "_________________________________________________________________\n",
      "batch_normalization_2 (Batch (None, 16, 16, 64)        256       \n",
      "_________________________________________________________________\n",
      "max_pooling2d_1 (MaxPooling2 (None, 8, 8, 64)          0         \n",
      "_________________________________________________________________\n",
      "dropout_1 (Dropout)          (None, 8, 8, 64)          0         \n",
      "_________________________________________________________________\n",
      "separable_conv2d_3 (Separabl (None, 8, 8, 128)         8896      \n",
      "_________________________________________________________________\n",
      "activation_3 (Activation)    (None, 8, 8, 128)         0         \n",
      "_________________________________________________________________\n",
      "batch_normalization_3 (Batch (None, 8, 8, 128)         512       \n",
      "_________________________________________________________________\n",
      "separable_conv2d_4 (Separabl (None, 8, 8, 128)         17664     \n",
      "_________________________________________________________________\n",
      "activation_4 (Activation)    (None, 8, 8, 128)         0         \n",
      "_________________________________________________________________\n",
      "batch_normalization_4 (Batch (None, 8, 8, 128)         512       \n",
      "_________________________________________________________________\n",
      "separable_conv2d_5 (Separabl (None, 8, 8, 128)         17664     \n",
      "_________________________________________________________________\n",
      "activation_5 (Activation)    (None, 8, 8, 128)         0         \n",
      "_________________________________________________________________\n",
      "batch_normalization_5 (Batch (None, 8, 8, 128)         512       \n",
      "_________________________________________________________________\n",
      "max_pooling2d_2 (MaxPooling2 (None, 4, 4, 128)         0         \n",
      "_________________________________________________________________\n",
      "dropout_2 (Dropout)          (None, 4, 4, 128)         0         \n",
      "_________________________________________________________________\n",
      "flatten (Flatten)            (None, 2048)              0         \n",
      "_________________________________________________________________\n",
      "dense (Dense)                (None, 256)               524544    \n",
      "_________________________________________________________________\n",
      "activation_6 (Activation)    (None, 256)               0         \n",
      "_________________________________________________________________\n",
      "batch_normalization_6 (Batch (None, 256)               1024      \n",
      "_________________________________________________________________\n",
      "dropout_3 (Dropout)          (None, 256)               0         \n",
      "_________________________________________________________________\n",
      "dense_1 (Dense)              (None, 2)                 514       \n",
      "_________________________________________________________________\n",
      "activation_7 (Activation)    (None, 2)                 0         \n",
      "=================================================================\n",
      "Total params: 579,773\n",
      "Trainable params: 578,173\n",
      "Non-trainable params: 1,600\n",
      "_________________________________________________________________\n"
     ]
    }
   ],
   "source": [
    "# Import model and initialize a testing model 32x32x3\n",
    "from nets_tf2.firenet import FireNet\n",
    "dims = (32, 32, 3)\n",
    "model = FireNet.build_model(width=dims[0], height=dims[1], depth=dims[2], classes=2)\n",
    "model.summary()"
   ]
  },
  {
   "cell_type": "markdown",
   "metadata": {},
   "source": [
    "## Plotter"
   ]
  },
  {
   "cell_type": "code",
   "execution_count": 7,
   "metadata": {
    "ExecuteTime": {
     "end_time": "2021-05-11T19:29:50.932697Z",
     "start_time": "2021-05-11T19:29:50.029097Z"
    }
   },
   "outputs": [
    {
     "name": "stdout",
     "output_type": "stream",
     "text": [
      "Class name: SeparableConv2D\n",
      "Class name: Conv2D\n",
      "Class name: Activation\n",
      "Class name: BatchNormalization\n",
      "Class name: MaxPooling2D\n",
      "Class name: MaxPooling2D\n",
      "Class name: Dropout\n",
      "Class name: SeparableConv2D\n",
      "Class name: Conv2D\n",
      "Class name: Activation\n",
      "Class name: BatchNormalization\n",
      "Class name: SeparableConv2D\n",
      "Class name: Conv2D\n",
      "Class name: Activation\n",
      "Class name: BatchNormalization\n",
      "Class name: MaxPooling2D\n",
      "Class name: MaxPooling2D\n",
      "Class name: Dropout\n",
      "Class name: SeparableConv2D\n",
      "Class name: Conv2D\n",
      "Class name: Activation\n",
      "Class name: BatchNormalization\n",
      "Class name: SeparableConv2D\n",
      "Class name: Conv2D\n",
      "Class name: Activation\n",
      "Class name: BatchNormalization\n",
      "Class name: SeparableConv2D\n",
      "Class name: Conv2D\n",
      "Class name: Activation\n",
      "Class name: BatchNormalization\n",
      "Class name: MaxPooling2D\n",
      "Class name: MaxPooling2D\n",
      "Class name: Dropout\n",
      "Class name: Flatten\n",
      "Class name: Flatten\n",
      "Class name: Dense\n",
      "Class name: Dense\n",
      "Class name: Activation\n",
      "Class name: BatchNormalization\n",
      "Class name: Dropout\n",
      "Class name: Dense\n",
      "Class name: Dense\n",
      "Class name: Activation\n"
     ]
    },
    {
     "data": {
      "image/png": "[encoded data removed]",
      "text/plain": [
       "<Figure size 1800x1800 with 1 Axes>"
      ]
     },
     "metadata": {
      "needs_background": "light"
     },
     "output_type": "display_data"
    }
   ],
   "source": [
    "# Net Plot\n",
    "from drawer.keras_util import convert_drawer_model\n",
    "from drawer.pptx_util import save_model_to_pptx\n",
    "from drawer.matplotlib_util import save_model_to_file\n",
    "plt.rcParams['figure.figsize'] = 25, 25\n",
    "plotModel = convert_drawer_model(model, mode=2)\n",
    "\n",
    "# save as svg file\n",
    "plotModel.save_fig(\"nets_tf2/FireNet.svg\")\n",
    "\n",
    "# save as pptx file\n",
    "save_model_to_pptx(plotModel, \"nets_tf2/FireNet.pptx\")\n",
    "\n",
    "# save via matplotlib\n",
    "save_model_to_file(plotModel, \"nets_tf2/FireNet.pdf\")"
   ]
  }
 ],
 "metadata": {
  "kernelspec": {
   "display_name": "Mobility",
   "language": "python",
   "name": "mobility"
  },
  "language_info": {
   "codemirror_mode": {
    "name": "ipython",
    "version": 3
   },
   "file_extension": ".py",
   "mimetype": "text/x-python",
   "name": "python",
   "nbconvert_exporter": "python",
   "pygments_lexer": "ipython3",
   "version": "3.6.9"
  }
 },
 "nbformat": 4,
 "nbformat_minor": 2
}
