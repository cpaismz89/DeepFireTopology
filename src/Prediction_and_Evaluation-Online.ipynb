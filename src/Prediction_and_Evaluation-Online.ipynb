{
 "cells": [
  {
   "cell_type": "markdown",
   "metadata": {},
   "source": [
    "## Importations"
   ]
  },
  {
   "cell_type": "code",
   "execution_count": null,
   "metadata": {
    "ExecuteTime": {
     "end_time": "2021-05-13T22:00:58.863936Z",
     "start_time": "2021-05-13T22:00:58.859194Z"
    }
   },
   "outputs": [],
   "source": [
    "# Run Keras on CPU\n",
    "import os\n",
    "os.environ[\"CUDA_DEVICE_ORDER\"] = \"PCI_BUS_ID\"   # see issue #152\n",
    "os.environ[\"CUDA_VISIBLE_DEVICES\"] = \" \"         # -1 if CPU"
   ]
  },
  {
   "cell_type": "code",
   "execution_count": null,
   "metadata": {
    "ExecuteTime": {
     "end_time": "2021-05-13T22:01:00.664890Z",
     "start_time": "2021-05-13T22:00:58.866426Z"
    }
   },
   "outputs": [],
   "source": [
    "# Importations\n",
    "import sys\n",
    "sys.path.append('utils')\n",
    "\n",
    "from configtf2 import *\n",
    "import CPutils_tf2\n",
    "import feature_extraction_tf2\n",
    "# import gradcam_utils_tf2"
   ]
  },
  {
   "cell_type": "code",
   "execution_count": null,
   "metadata": {
    "ExecuteTime": {
     "end_time": "2021-05-13T22:01:00.726296Z",
     "start_time": "2021-05-13T22:01:00.666317Z"
    }
   },
   "outputs": [],
   "source": [
    "# Check GPUs\n",
    "tf.test.gpu_device_name()"
   ]
  },
  {
   "cell_type": "code",
   "execution_count": null,
   "metadata": {
    "ExecuteTime": {
     "end_time": "2021-05-13T22:01:00.734603Z",
     "start_time": "2021-05-13T22:01:00.727740Z"
    }
   },
   "outputs": [],
   "source": [
    "# Check version\n",
    "tf.__version__"
   ]
  },
  {
   "cell_type": "code",
   "execution_count": null,
   "metadata": {
    "ExecuteTime": {
     "end_time": "2021-05-13T22:01:01.821797Z",
     "start_time": "2021-05-13T22:01:00.736098Z"
    }
   },
   "outputs": [],
   "source": [
    "# Gradio\n",
    "import gradio as gr"
   ]
  },
  {
   "cell_type": "markdown",
   "metadata": {},
   "source": [
    "## CNNet"
   ]
  },
  {
   "cell_type": "code",
   "execution_count": null,
   "metadata": {
    "ExecuteTime": {
     "end_time": "2021-05-13T22:01:01.973932Z",
     "start_time": "2021-05-13T22:01:01.822866Z"
    },
    "scrolled": true
   },
   "outputs": [],
   "source": [
    "# Import model and initialize a testing model\n",
    "from nets_tf2.firenet import FireNet\n",
    "dims = (38, 31, 1)\n",
    "model = FireNet.build_model(width=dims[0], height=dims[1], depth=dims[2], classes=2)\n",
    "model.summary()"
   ]
  },
  {
   "cell_type": "code",
   "execution_count": null,
   "metadata": {
    "ExecuteTime": {
     "end_time": "2021-05-13T22:01:02.119441Z",
     "start_time": "2021-05-13T22:01:01.975123Z"
    }
   },
   "outputs": [],
   "source": [
    "Xtest, ytest = cload(os.path.join('..', 'data', 'test_set', 'test_set.lzma'), compression='lzma')"
   ]
  },
  {
   "cell_type": "code",
   "execution_count": null,
   "metadata": {
    "ExecuteTime": {
     "end_time": "2021-05-13T22:01:02.124178Z",
     "start_time": "2021-05-13T22:01:02.121291Z"
    }
   },
   "outputs": [],
   "source": [
    "Xtest.shape"
   ]
  },
  {
   "cell_type": "markdown",
   "metadata": {},
   "source": [
    "## Load pretrained model"
   ]
  },
  {
   "cell_type": "code",
   "execution_count": null,
   "metadata": {
    "ExecuteTime": {
     "end_time": "2021-05-13T22:01:02.149092Z",
     "start_time": "2021-05-13T22:01:02.125135Z"
    }
   },
   "outputs": [],
   "source": [
    "PRETRAINED = os.path.join('..', 'pretrained_models')\n",
    "model.load_weights(os.path.join(PRETRAINED, 'M2.h5'))"
   ]
  },
  {
   "cell_type": "code",
   "execution_count": null,
   "metadata": {
    "ExecuteTime": {
     "end_time": "2021-05-13T22:01:02.494896Z",
     "start_time": "2021-05-13T22:01:02.149999Z"
    }
   },
   "outputs": [],
   "source": [
    "# Sanity check\n",
    "model.predict(np.expand_dims(Xtest[0:1], -1))"
   ]
  },
  {
   "cell_type": "code",
   "execution_count": null,
   "metadata": {
    "ExecuteTime": {
     "end_time": "2021-05-13T22:01:02.498055Z",
     "start_time": "2021-05-13T22:01:02.496225Z"
    },
    "code_folding": [
     0
    ],
    "scrolled": true
   },
   "outputs": [],
   "source": [
    "# # Model from scratch and then load weights GRADCAM\n",
    "# model2 = FireNet.build_model(width=dims[0], height=dims[1], depth=dims[2], classes=2)\n",
    "\n",
    "# # Load weights\n",
    "# model2.load_weights(os.path.join(PRETRAINED, 'MGCAM.h5'))\n",
    "# for i, layer in enumerate(model2.layers):\n",
    "#     layer._name  = 'layer_' + str(i)\n",
    "# model2.summary()"
   ]
  },
  {
   "cell_type": "code",
   "execution_count": null,
   "metadata": {
    "ExecuteTime": {
     "end_time": "2021-05-13T22:01:02.506094Z",
     "start_time": "2021-05-13T22:01:02.499013Z"
    },
    "code_folding": [
     0
    ]
   },
   "outputs": [],
   "source": [
    "# # Load pre-trained model function wrap\n",
    "# def model_constructor(PRE_TRAINED, weights='MGCAM.h5'):\n",
    "#     # Model from scratch and then load weights\n",
    "#     from nets_tf2.firenet import FireNet\n",
    "#     dims = (38, 31, 1)\n",
    "#     model2 = FireNet.build_model(width=dims[0], height=dims[1], depth=dims[2], classes=2)\n",
    "\n",
    "#     # Load weights\n",
    "#     model2.load_weights(os.path.join(PRE_TRAINED, weights))\n",
    "#     for i, layer in enumerate(model2.layers):\n",
    "#         layer._name  = 'layer_' + str(i)\n",
    "\n",
    "#     return model2\n",
    "\n",
    "# # Model\n",
    "# H, W = 31, 38\n",
    "# model2 = gradcam_utils_tf2.build_model(model2, model_constructor=model_constructor(PRETRAINED))\n",
    "# guided_model = gradcam_utils_tf2.build_guided_model(model2)"
   ]
  },
  {
   "cell_type": "code",
   "execution_count": null,
   "metadata": {
    "ExecuteTime": {
     "end_time": "2021-05-13T22:01:02.511166Z",
     "start_time": "2021-05-13T22:01:02.507030Z"
    },
    "code_folding": [
     0
    ]
   },
   "outputs": [],
   "source": [
    "# # Test\n",
    "# layer = 'layer_5'\n",
    "# gcam = gradcam_utils_tf2.generate_gradCAM(batch_size=1, \n",
    "#                                           layer=layer,\n",
    "#                                           model=model2,\n",
    "#                                           processedimages=np.expand_dims(Xtest[0:1], -1), \n",
    "#                                           rawimages=np.expand_dims(Xtest[0:1], -1) * 255.,\n",
    "#                                           save=False,\n",
    "#                                           showID=-1,\n",
    "#                                           title='Test', )\n",
    "\n",
    "# print(\"GradCAM\")\n",
    "# fig2 = plt.figure()\n",
    "# ax2 = fig2.add_subplot(111)\n",
    "# im = ax2.imshow(Xtest[0:1].squeeze() * 255., cmap='gray')\n",
    "# im2 = ax2.imshow(gcam[-1], alpha=0.4, cmap='jet')\n",
    "# plt.axis('off')\n",
    "# plt.tight_layout()\n",
    "# plt.axis(\"tight\")  \n",
    "# plt.axis(\"image\")  \n",
    "# plt.show()\n",
    "# plt.close()"
   ]
  },
  {
   "cell_type": "markdown",
   "metadata": {
    "ExecuteTime": {
     "end_time": "2021-05-11T22:46:35.776276Z",
     "start_time": "2021-05-11T22:46:35.743222Z"
    },
    "scrolled": true
   },
   "source": [
    "## Evaluation online"
   ]
  },
  {
   "cell_type": "code",
   "execution_count": null,
   "metadata": {
    "ExecuteTime": {
     "end_time": "2021-05-13T22:01:02.627787Z",
     "start_time": "2021-05-13T22:01:02.512517Z"
    },
    "code_folding": [
     1,
     51
    ]
   },
   "outputs": [],
   "source": [
    "# Gradio function \n",
    "def image_classifier(landscape):\n",
    "\n",
    "    # Gray scale\n",
    "    landscape = landscape[:,:,0] \n",
    "    print(\"Landscape shape:\", landscape.shape)\n",
    "    \n",
    "    # Debug figure\n",
    "    fig = plt.figure()\n",
    "    ax = fig.add_subplot(111)\n",
    "    ax.imshow(landscape, cmap='gray')\n",
    "    plt.axis('off')\n",
    "    plt.tight_layout()\n",
    "    plt.axis(\"tight\")  \n",
    "    plt.axis(\"image\")  \n",
    "    plt.show()\n",
    "    plt.close()\n",
    "\n",
    "    # Normalize\n",
    "    landscape = landscape / 255.\n",
    "    landscape = landscape.reshape(1, 31, 38)\n",
    "    \n",
    "    # Predictions\n",
    "    y_hat = model.predict(np.expand_dims(landscape, -1))\n",
    "    \n",
    "    \n",
    "    # GradCAM\n",
    "#     layer = 'layer_5'\n",
    "#     gcam = gradcam_utils_tf2.generate_gradCAM(batch_size=1, \n",
    "#                                               layer=layer,\n",
    "#                                               model=model2,\n",
    "#                                               processedimages=np.expand_dims(landscape, -1), \n",
    "#                                               rawimages=np.expand_dims(landscape, -1) * 255.,\n",
    "#                                               save=False,\n",
    "#                                               showID=-1,\n",
    "#                                               title='')\n",
    "#     fig2 = plt.figure()\n",
    "#     ax2 = fig2.add_subplot(111)\n",
    "#     im = ax2.imshow(landscape.squeeze() * 255., cmap='gray')\n",
    "#     im2 = ax2.imshow(gcam[-1], alpha=0.4, cmap='jet')\n",
    "#     plt.axis('off')\n",
    "#     plt.tight_layout()\n",
    "#     plt.axis(\"tight\")  \n",
    "#     plt.axis(\"image\")  \n",
    "#     plt.show()\n",
    "#     plt.close()\n",
    "    \n",
    "    \n",
    "    # Return label and attention map\n",
    "    return {'no fire': float(y_hat[0][0]), 'fire': float(y_hat[0][1])} #, fig\n",
    "\n",
    "# Create interface\n",
    "iface = gr.Interface(\n",
    "    image_classifier, \n",
    "    gr.inputs.Image(shape=(38, 31)), \n",
    "    [gr.outputs.Label(num_top_classes=2)], # gr.outputs.Image(plot=True, label=\"Attention Map\")],\n",
    "    capture_session=True,\n",
    "    interpretation=\"default\",\n",
    "    title='Deep Fire Topology (DFT)',\n",
    "    description='Online version of a pretrained model following DFT structure',\n",
    "    server_port=7861,\n",
    ")\n"
   ]
  },
  {
   "cell_type": "code",
   "execution_count": null,
   "metadata": {
    "ExecuteTime": {
     "end_time": "2021-05-13T22:06:33.940941Z",
     "start_time": "2021-05-13T22:06:31.634058Z"
    },
    "scrolled": false
   },
   "outputs": [],
   "source": [
    "# Launch it\n",
    "iface.launch(share=False)"
   ]
  }
 ],
 "metadata": {
  "kernelspec": {
   "display_name": "Mobility",
   "language": "python",
   "name": "mobility"
  },
  "language_info": {
   "codemirror_mode": {
    "name": "ipython",
    "version": 3
   },
   "file_extension": ".py",
   "mimetype": "text/x-python",
   "name": "python",
   "nbconvert_exporter": "python",
   "pygments_lexer": "ipython3",
   "version": "3.6.9"
  }
 },
 "nbformat": 4,
 "nbformat_minor": 2
}
